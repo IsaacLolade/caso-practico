{
 "cells": [
  {
   "cell_type": "code",
   "execution_count": 4,
   "metadata": {},
   "outputs": [
    {
     "name": "stdout",
     "output_type": "stream",
     "text": [
      "{\n",
      "  \"churn\": true,\n",
      "  \"churn_probability\": 0.7930643829227751\n",
      "}\n"
     ]
    },
    {
     "name": "stderr",
     "output_type": "stream",
     "text": [
      "  % Total    % Received % Xferd  Average Speed   Time    Time     Time  Current\n",
      "                                 Dload  Upload   Total   Spent    Left  Speed\n",
      "\n",
      "  0     0    0     0    0     0      0      0 --:--:-- --:--:-- --:--:--     0\n",
      "100   592  100    63  100   529  15961   130k --:--:-- --:--:-- --:--:--  192k\n"
     ]
    }
   ],
   "source": [
    "!curl --request POST \"http://127.0.0.1:8000/predict\" \\\n",
    "--header \"Content-Type: application/json\" \\\n",
    "--data-raw \"{\\\n",
    "    \\\"gender\\\": \\\"female\\\",\\\n",
    "    \\\"seniorcitizen\\\": 1,\\\n",
    "    \\\"partner\\\": \\\"no\\\",\\\n",
    "    \\\"dependents\\\": \\\"no\\\",\\\n",
    "    \\\"phoneservice\\\": \\\"yes\\\",\\\n",
    "    \\\"multiplelines\\\": \\\"yes\\\",\\\n",
    "    \\\"internetservice\\\": \\\"fiber_optic\\\",\\\n",
    "    \\\"onlinesecurity\\\": \\\"no\\\",\\\n",
    "    \\\"onlinebackup\\\": \\\"no\\\",\\\n",
    "    \\\"deviceprotection\\\": \\\"no\\\",\\\n",
    "    \\\"techsupport\\\": \\\"no\\\",\\\n",
    "    \\\"streamingtv\\\": \\\"yes\\\",\\\n",
    "    \\\"streamingmovies\\\": \\\"no\\\",\\\n",
    "    \\\"contract\\\": \\\"month-to-month\\\",\\\n",
    "    \\\"paperlessbilling\\\": \\\"yes\\\",\\\n",
    "    \\\"paymentmethod\\\": \\\"electronic_check\\\",\\\n",
    "    \\\"tenure\\\": 1,\\\n",
    "    \\\"monthlycharges\\\": 85.7,\\\n",
    "    \\\"totalcharges\\\": 85.7\\\n",
    "}\"  "
   ]
  }
 ],
 "metadata": {
  "kernelspec": {
   "display_name": ".venv",
   "language": "python",
   "name": "python3"
  },
  "language_info": {
   "codemirror_mode": {
    "name": "ipython",
    "version": 3
   },
   "file_extension": ".py",
   "mimetype": "text/x-python",
   "name": "python",
   "nbconvert_exporter": "python",
   "pygments_lexer": "ipython3",
   "version": "3.12.6"
  }
 },
 "nbformat": 4,
 "nbformat_minor": 2
}
